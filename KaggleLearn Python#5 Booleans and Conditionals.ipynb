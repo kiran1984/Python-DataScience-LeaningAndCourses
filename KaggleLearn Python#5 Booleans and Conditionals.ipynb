{
 "cells": [
  {
   "cell_type": "code",
   "execution_count": 1,
   "metadata": {},
   "outputs": [
    {
     "name": "stdout",
     "output_type": "stream",
     "text": [
      "True\n",
      "<class 'bool'>\n"
     ]
    }
   ],
   "source": [
    "x=True\n",
    "print(x)\n",
    "print(type(x))"
   ]
  },
  {
   "cell_type": "code",
   "execution_count": 2,
   "metadata": {},
   "outputs": [],
   "source": [
    "def can_someone_run_for_president(age):\n",
    "    \"\"\"Can someone of the given age run for president in the US?\"\"\"\n",
    "    # The US Constitution says you must \"have attained to the Age of thirty-five Years\"\n",
    "    return age>=35"
   ]
  },
  {
   "cell_type": "code",
   "execution_count": 3,
   "metadata": {},
   "outputs": [
    {
     "name": "stdout",
     "output_type": "stream",
     "text": [
      "Can someone run for president at the age of 49? True\n",
      "Can someone run for president at the age of 23 False\n"
     ]
    }
   ],
   "source": [
    "print(\"Can someone run for president at the age of 49?\",can_someone_run_for_president(49))\n",
    "print(\"Can someone run for president at the age of 23?\",can_someone_run_for_president(23))"
   ]
  },
  {
   "cell_type": "code",
   "execution_count": 4,
   "metadata": {},
   "outputs": [
    {
     "data": {
      "text/plain": [
       "True"
      ]
     },
     "execution_count": 4,
     "metadata": {},
     "output_type": "execute_result"
    }
   ],
   "source": [
    "3.0==3"
   ]
  },
  {
   "cell_type": "code",
   "execution_count": 5,
   "metadata": {},
   "outputs": [
    {
     "data": {
      "text/plain": [
       "False"
      ]
     },
     "execution_count": 5,
     "metadata": {},
     "output_type": "execute_result"
    }
   ],
   "source": [
    "'3'==3"
   ]
  },
  {
   "cell_type": "code",
   "execution_count": 6,
   "metadata": {},
   "outputs": [
    {
     "name": "stdout",
     "output_type": "stream",
     "text": [
      "Is number 45 odd? True\n",
      "Is number 90 odd? False\n"
     ]
    }
   ],
   "source": [
    "def is_odd(number):\n",
    "    return (number%2)==1\n",
    "print(\"Is number 45 odd?\",is_odd(45))\n",
    "print(\"Is number 90 odd?\",is_odd(90))"
   ]
  },
  {
   "cell_type": "code",
   "execution_count": 7,
   "metadata": {},
   "outputs": [],
   "source": [
    "def can_someone_be_president(age,is_natural_born):\n",
    "    \"\"\"Can someone of the given age and citizenship status run for president in the US?\"\"\"\n",
    "    # The US Constitution says you must be a natural born citizen *and* at least 35 years old\n",
    "    return is_natural_born and age>=35"
   ]
  },
  {
   "cell_type": "code",
   "execution_count": 9,
   "metadata": {},
   "outputs": [
    {
     "name": "stdout",
     "output_type": "stream",
     "text": [
      "Can someone run for president at the age of 49 and is american? True\n",
      "Can someone run for president at the age of 40 and is not american? False\n"
     ]
    }
   ],
   "source": [
    "print(\"Can someone run for president at the age of 49 and is american?\",can_someone_be_president(49,True))\n",
    "print(\"Can someone run for president at the age of 40 and is not american?\",can_someone_be_president(40,False))"
   ]
  },
  {
   "cell_type": "code",
   "execution_count": 10,
   "metadata": {},
   "outputs": [
    {
     "data": {
      "text/plain": [
       "True"
      ]
     },
     "execution_count": 10,
     "metadata": {},
     "output_type": "execute_result"
    }
   ],
   "source": [
    "True or True and False"
   ]
  },
  {
   "cell_type": "code",
   "execution_count": 13,
   "metadata": {},
   "outputs": [
    {
     "name": "stdout",
     "output_type": "stream",
     "text": [
      "0  is zero\n",
      "23  is positive\n",
      "-1  is negative\n"
     ]
    }
   ],
   "source": [
    "def inspect(x):\n",
    "    if x==0:\n",
    "        print(x,\" is zero\")\n",
    "    elif x>0:\n",
    "        print(x,\" is positive\")\n",
    "    elif x<0:\n",
    "        print(x,\" is negative\")\n",
    "    else:\n",
    "        print(x,\" is something that i've never seen\")\n",
    "inspect(0)\n",
    "inspect(23)\n",
    "inspect(-1)"
   ]
  },
  {
   "cell_type": "code",
   "execution_count": 15,
   "metadata": {},
   "outputs": [],
   "source": [
    "def f(x):\n",
    "    if x>0:\n",
    "        print(\"Only printed when x is positive; x=\",x)\n",
    "        print(\"Also printed when x is positive; x=\",x)\n",
    "    print(\"Also printed regarded the value of x; x=\",x)"
   ]
  },
  {
   "cell_type": "code",
   "execution_count": 16,
   "metadata": {},
   "outputs": [
    {
     "name": "stdout",
     "output_type": "stream",
     "text": [
      "Only printed when x is positive; x= 2\n",
      "Also printed when x is positive; x= 2\n",
      "Also printed regarded the value of x; x= 2\n"
     ]
    }
   ],
   "source": [
    "f(2)"
   ]
  },
  {
   "cell_type": "code",
   "execution_count": 17,
   "metadata": {},
   "outputs": [
    {
     "name": "stdout",
     "output_type": "stream",
     "text": [
      "Also printed regarded the value of x; x= -1\n"
     ]
    }
   ],
   "source": [
    "f(-1)"
   ]
  },
  {
   "cell_type": "code",
   "execution_count": 18,
   "metadata": {},
   "outputs": [
    {
     "name": "stdout",
     "output_type": "stream",
     "text": [
      "True\n",
      "True\n",
      "False\n",
      "True\n",
      "False\n"
     ]
    }
   ],
   "source": [
    "print(bool(32))\n",
    "print(bool(1))\n",
    "print(bool(0))\n",
    "print(bool('asdas'))\n",
    "print(bool(''))"
   ]
  },
  {
   "cell_type": "code",
   "execution_count": 19,
   "metadata": {},
   "outputs": [
    {
     "name": "stdout",
     "output_type": "stream",
     "text": [
      "spam\n"
     ]
    }
   ],
   "source": [
    "if 0:\n",
    "    print(0)\n",
    "elif \"spam\":\n",
    "    print(\"spam\")"
   ]
  },
  {
   "cell_type": "code",
   "execution_count": 21,
   "metadata": {},
   "outputs": [],
   "source": [
    "def quiz_message(grade):\n",
    "    if grade<50:\n",
    "        outcome=\"failed\"\n",
    "    else:\n",
    "        outcome=\"passed\"\n",
    "    print(\"With your grade \",grade,\" your outcome is \",outcome)"
   ]
  },
  {
   "cell_type": "code",
   "execution_count": 22,
   "metadata": {},
   "outputs": [
    {
     "name": "stdout",
     "output_type": "stream",
     "text": [
      "With your grade  34  your outcome is  failed\n",
      "With your grade  50  your outcome is  passed\n",
      "With your grade  100  your outcome is  passed\n"
     ]
    }
   ],
   "source": [
    "quiz_message(34)\n",
    "quiz_message(50)\n",
    "quiz_message(100)"
   ]
  },
  {
   "cell_type": "code",
   "execution_count": 23,
   "metadata": {},
   "outputs": [],
   "source": [
    "def quiz_message(grade):\n",
    "    outcome='failed' if grade<50 else 'passed'\n",
    "    print(\"With your grade \",grade,\" your outcome is \",outcome)"
   ]
  },
  {
   "cell_type": "code",
   "execution_count": 24,
   "metadata": {},
   "outputs": [
    {
     "name": "stdout",
     "output_type": "stream",
     "text": [
      "With your grade  50  your outcome is  passed\n",
      "With your grade  35  your outcome is  failed\n",
      "With your grade  100  your outcome is  passed\n"
     ]
    }
   ],
   "source": [
    "quiz_message(50)\n",
    "quiz_message(35)\n",
    "quiz_message(100)"
   ]
  },
  {
   "cell_type": "code",
   "execution_count": null,
   "metadata": {},
   "outputs": [],
   "source": []
  }
 ],
 "metadata": {
  "kernelspec": {
   "display_name": "Python 3",
   "language": "python",
   "name": "python3"
  },
  "language_info": {
   "codemirror_mode": {
    "name": "ipython",
    "version": 3
   },
   "file_extension": ".py",
   "mimetype": "text/x-python",
   "name": "python",
   "nbconvert_exporter": "python",
   "pygments_lexer": "ipython3",
   "version": "3.7.3"
  }
 },
 "nbformat": 4,
 "nbformat_minor": 2
}
